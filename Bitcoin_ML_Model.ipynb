{
  "cells": [
    {
      "cell_type": "code",
      "execution_count": 1,
      "id": "2801d053-54bc-427c-b6aa-d5ad4829b20e",
      "metadata": {
        "id": "2801d053-54bc-427c-b6aa-d5ad4829b20e"
      },
      "outputs": [],
      "source": [
        "import yfinance as yf\n",
        "import pandas as pd\n",
        "import numpy as np\n",
        "import matplotlib.pyplot as plt"
      ]
    },
    {
      "cell_type": "code",
      "execution_count": 2,
      "id": "aa1d7684-958f-48d6-b1e6-fc34465205b8",
      "metadata": {
        "colab": {
          "base_uri": "https://localhost:8080/"
        },
        "id": "aa1d7684-958f-48d6-b1e6-fc34465205b8",
        "outputId": "b86c9203-eb38-4b4b-a3d0-84bc589ddb04"
      },
      "outputs": [
        {
          "output_type": "stream",
          "name": "stderr",
          "text": [
            "\r[*********************100%%**********************]  1 of 1 completed\n"
          ]
        }
      ],
      "source": [
        "data = yf.download('BTC-USD','2015-01-01','2024-07-07')"
      ]
    },
    {
      "cell_type": "code",
      "execution_count": 3,
      "id": "eecb3108-1cca-42c5-94b4-98493f9f170c",
      "metadata": {
        "id": "eecb3108-1cca-42c5-94b4-98493f9f170c"
      },
      "outputs": [],
      "source": [
        "data = pd.DataFrame(data)"
      ]
    },
    {
      "cell_type": "code",
      "execution_count": 4,
      "id": "379ebeab-e712-47e5-8d46-7d92e324d2e7",
      "metadata": {
        "id": "379ebeab-e712-47e5-8d46-7d92e324d2e7"
      },
      "outputs": [],
      "source": [
        "data.reset_index(inplace=True)"
      ]
    },
    {
      "cell_type": "code",
      "execution_count": 5,
      "id": "c98ff292-f0bd-4f4f-afc4-f2294321934d",
      "metadata": {
        "id": "c98ff292-f0bd-4f4f-afc4-f2294321934d"
      },
      "outputs": [],
      "source": [
        "data.drop(columns = ['Date','Open','High','Low','Adj Close','Volume'], inplace=True)"
      ]
    },
    {
      "cell_type": "code",
      "execution_count": 6,
      "id": "48dff259-927e-4674-b415-2c2b9f3667f9",
      "metadata": {
        "colab": {
          "base_uri": "https://localhost:8080/",
          "height": 423
        },
        "id": "48dff259-927e-4674-b415-2c2b9f3667f9",
        "outputId": "ba22e51b-5226-494e-a3e0-20bd493a65d2"
      },
      "outputs": [
        {
          "output_type": "execute_result",
          "data": {
            "text/plain": [
              "             Close\n",
              "0       314.248993\n",
              "1       315.032013\n",
              "2       281.082001\n",
              "3       264.195007\n",
              "4       274.473999\n",
              "...            ...\n",
              "3470  62029.015625\n",
              "3471  60173.921875\n",
              "3472  56977.703125\n",
              "3473  56662.375000\n",
              "3474  58303.539062\n",
              "\n",
              "[3475 rows x 1 columns]"
            ],
            "text/html": [
              "\n",
              "  <div id=\"df-43ec9232-fddc-44ad-8b9a-ce6b584535ff\" class=\"colab-df-container\">\n",
              "    <div>\n",
              "<style scoped>\n",
              "    .dataframe tbody tr th:only-of-type {\n",
              "        vertical-align: middle;\n",
              "    }\n",
              "\n",
              "    .dataframe tbody tr th {\n",
              "        vertical-align: top;\n",
              "    }\n",
              "\n",
              "    .dataframe thead th {\n",
              "        text-align: right;\n",
              "    }\n",
              "</style>\n",
              "<table border=\"1\" class=\"dataframe\">\n",
              "  <thead>\n",
              "    <tr style=\"text-align: right;\">\n",
              "      <th></th>\n",
              "      <th>Close</th>\n",
              "    </tr>\n",
              "  </thead>\n",
              "  <tbody>\n",
              "    <tr>\n",
              "      <th>0</th>\n",
              "      <td>314.248993</td>\n",
              "    </tr>\n",
              "    <tr>\n",
              "      <th>1</th>\n",
              "      <td>315.032013</td>\n",
              "    </tr>\n",
              "    <tr>\n",
              "      <th>2</th>\n",
              "      <td>281.082001</td>\n",
              "    </tr>\n",
              "    <tr>\n",
              "      <th>3</th>\n",
              "      <td>264.195007</td>\n",
              "    </tr>\n",
              "    <tr>\n",
              "      <th>4</th>\n",
              "      <td>274.473999</td>\n",
              "    </tr>\n",
              "    <tr>\n",
              "      <th>...</th>\n",
              "      <td>...</td>\n",
              "    </tr>\n",
              "    <tr>\n",
              "      <th>3470</th>\n",
              "      <td>62029.015625</td>\n",
              "    </tr>\n",
              "    <tr>\n",
              "      <th>3471</th>\n",
              "      <td>60173.921875</td>\n",
              "    </tr>\n",
              "    <tr>\n",
              "      <th>3472</th>\n",
              "      <td>56977.703125</td>\n",
              "    </tr>\n",
              "    <tr>\n",
              "      <th>3473</th>\n",
              "      <td>56662.375000</td>\n",
              "    </tr>\n",
              "    <tr>\n",
              "      <th>3474</th>\n",
              "      <td>58303.539062</td>\n",
              "    </tr>\n",
              "  </tbody>\n",
              "</table>\n",
              "<p>3475 rows × 1 columns</p>\n",
              "</div>\n",
              "    <div class=\"colab-df-buttons\">\n",
              "\n",
              "  <div class=\"colab-df-container\">\n",
              "    <button class=\"colab-df-convert\" onclick=\"convertToInteractive('df-43ec9232-fddc-44ad-8b9a-ce6b584535ff')\"\n",
              "            title=\"Convert this dataframe to an interactive table.\"\n",
              "            style=\"display:none;\">\n",
              "\n",
              "  <svg xmlns=\"http://www.w3.org/2000/svg\" height=\"24px\" viewBox=\"0 -960 960 960\">\n",
              "    <path d=\"M120-120v-720h720v720H120Zm60-500h600v-160H180v160Zm220 220h160v-160H400v160Zm0 220h160v-160H400v160ZM180-400h160v-160H180v160Zm440 0h160v-160H620v160ZM180-180h160v-160H180v160Zm440 0h160v-160H620v160Z\"/>\n",
              "  </svg>\n",
              "    </button>\n",
              "\n",
              "  <style>\n",
              "    .colab-df-container {\n",
              "      display:flex;\n",
              "      gap: 12px;\n",
              "    }\n",
              "\n",
              "    .colab-df-convert {\n",
              "      background-color: #E8F0FE;\n",
              "      border: none;\n",
              "      border-radius: 50%;\n",
              "      cursor: pointer;\n",
              "      display: none;\n",
              "      fill: #1967D2;\n",
              "      height: 32px;\n",
              "      padding: 0 0 0 0;\n",
              "      width: 32px;\n",
              "    }\n",
              "\n",
              "    .colab-df-convert:hover {\n",
              "      background-color: #E2EBFA;\n",
              "      box-shadow: 0px 1px 2px rgba(60, 64, 67, 0.3), 0px 1px 3px 1px rgba(60, 64, 67, 0.15);\n",
              "      fill: #174EA6;\n",
              "    }\n",
              "\n",
              "    .colab-df-buttons div {\n",
              "      margin-bottom: 4px;\n",
              "    }\n",
              "\n",
              "    [theme=dark] .colab-df-convert {\n",
              "      background-color: #3B4455;\n",
              "      fill: #D2E3FC;\n",
              "    }\n",
              "\n",
              "    [theme=dark] .colab-df-convert:hover {\n",
              "      background-color: #434B5C;\n",
              "      box-shadow: 0px 1px 3px 1px rgba(0, 0, 0, 0.15);\n",
              "      filter: drop-shadow(0px 1px 2px rgba(0, 0, 0, 0.3));\n",
              "      fill: #FFFFFF;\n",
              "    }\n",
              "  </style>\n",
              "\n",
              "    <script>\n",
              "      const buttonEl =\n",
              "        document.querySelector('#df-43ec9232-fddc-44ad-8b9a-ce6b584535ff button.colab-df-convert');\n",
              "      buttonEl.style.display =\n",
              "        google.colab.kernel.accessAllowed ? 'block' : 'none';\n",
              "\n",
              "      async function convertToInteractive(key) {\n",
              "        const element = document.querySelector('#df-43ec9232-fddc-44ad-8b9a-ce6b584535ff');\n",
              "        const dataTable =\n",
              "          await google.colab.kernel.invokeFunction('convertToInteractive',\n",
              "                                                    [key], {});\n",
              "        if (!dataTable) return;\n",
              "\n",
              "        const docLinkHtml = 'Like what you see? Visit the ' +\n",
              "          '<a target=\"_blank\" href=https://colab.research.google.com/notebooks/data_table.ipynb>data table notebook</a>'\n",
              "          + ' to learn more about interactive tables.';\n",
              "        element.innerHTML = '';\n",
              "        dataTable['output_type'] = 'display_data';\n",
              "        await google.colab.output.renderOutput(dataTable, element);\n",
              "        const docLink = document.createElement('div');\n",
              "        docLink.innerHTML = docLinkHtml;\n",
              "        element.appendChild(docLink);\n",
              "      }\n",
              "    </script>\n",
              "  </div>\n",
              "\n",
              "\n",
              "<div id=\"df-275c8d91-9ccc-4cae-92bf-d9849bf1e5c0\">\n",
              "  <button class=\"colab-df-quickchart\" onclick=\"quickchart('df-275c8d91-9ccc-4cae-92bf-d9849bf1e5c0')\"\n",
              "            title=\"Suggest charts\"\n",
              "            style=\"display:none;\">\n",
              "\n",
              "<svg xmlns=\"http://www.w3.org/2000/svg\" height=\"24px\"viewBox=\"0 0 24 24\"\n",
              "     width=\"24px\">\n",
              "    <g>\n",
              "        <path d=\"M19 3H5c-1.1 0-2 .9-2 2v14c0 1.1.9 2 2 2h14c1.1 0 2-.9 2-2V5c0-1.1-.9-2-2-2zM9 17H7v-7h2v7zm4 0h-2V7h2v10zm4 0h-2v-4h2v4z\"/>\n",
              "    </g>\n",
              "</svg>\n",
              "  </button>\n",
              "\n",
              "<style>\n",
              "  .colab-df-quickchart {\n",
              "      --bg-color: #E8F0FE;\n",
              "      --fill-color: #1967D2;\n",
              "      --hover-bg-color: #E2EBFA;\n",
              "      --hover-fill-color: #174EA6;\n",
              "      --disabled-fill-color: #AAA;\n",
              "      --disabled-bg-color: #DDD;\n",
              "  }\n",
              "\n",
              "  [theme=dark] .colab-df-quickchart {\n",
              "      --bg-color: #3B4455;\n",
              "      --fill-color: #D2E3FC;\n",
              "      --hover-bg-color: #434B5C;\n",
              "      --hover-fill-color: #FFFFFF;\n",
              "      --disabled-bg-color: #3B4455;\n",
              "      --disabled-fill-color: #666;\n",
              "  }\n",
              "\n",
              "  .colab-df-quickchart {\n",
              "    background-color: var(--bg-color);\n",
              "    border: none;\n",
              "    border-radius: 50%;\n",
              "    cursor: pointer;\n",
              "    display: none;\n",
              "    fill: var(--fill-color);\n",
              "    height: 32px;\n",
              "    padding: 0;\n",
              "    width: 32px;\n",
              "  }\n",
              "\n",
              "  .colab-df-quickchart:hover {\n",
              "    background-color: var(--hover-bg-color);\n",
              "    box-shadow: 0 1px 2px rgba(60, 64, 67, 0.3), 0 1px 3px 1px rgba(60, 64, 67, 0.15);\n",
              "    fill: var(--button-hover-fill-color);\n",
              "  }\n",
              "\n",
              "  .colab-df-quickchart-complete:disabled,\n",
              "  .colab-df-quickchart-complete:disabled:hover {\n",
              "    background-color: var(--disabled-bg-color);\n",
              "    fill: var(--disabled-fill-color);\n",
              "    box-shadow: none;\n",
              "  }\n",
              "\n",
              "  .colab-df-spinner {\n",
              "    border: 2px solid var(--fill-color);\n",
              "    border-color: transparent;\n",
              "    border-bottom-color: var(--fill-color);\n",
              "    animation:\n",
              "      spin 1s steps(1) infinite;\n",
              "  }\n",
              "\n",
              "  @keyframes spin {\n",
              "    0% {\n",
              "      border-color: transparent;\n",
              "      border-bottom-color: var(--fill-color);\n",
              "      border-left-color: var(--fill-color);\n",
              "    }\n",
              "    20% {\n",
              "      border-color: transparent;\n",
              "      border-left-color: var(--fill-color);\n",
              "      border-top-color: var(--fill-color);\n",
              "    }\n",
              "    30% {\n",
              "      border-color: transparent;\n",
              "      border-left-color: var(--fill-color);\n",
              "      border-top-color: var(--fill-color);\n",
              "      border-right-color: var(--fill-color);\n",
              "    }\n",
              "    40% {\n",
              "      border-color: transparent;\n",
              "      border-right-color: var(--fill-color);\n",
              "      border-top-color: var(--fill-color);\n",
              "    }\n",
              "    60% {\n",
              "      border-color: transparent;\n",
              "      border-right-color: var(--fill-color);\n",
              "    }\n",
              "    80% {\n",
              "      border-color: transparent;\n",
              "      border-right-color: var(--fill-color);\n",
              "      border-bottom-color: var(--fill-color);\n",
              "    }\n",
              "    90% {\n",
              "      border-color: transparent;\n",
              "      border-bottom-color: var(--fill-color);\n",
              "    }\n",
              "  }\n",
              "</style>\n",
              "\n",
              "  <script>\n",
              "    async function quickchart(key) {\n",
              "      const quickchartButtonEl =\n",
              "        document.querySelector('#' + key + ' button');\n",
              "      quickchartButtonEl.disabled = true;  // To prevent multiple clicks.\n",
              "      quickchartButtonEl.classList.add('colab-df-spinner');\n",
              "      try {\n",
              "        const charts = await google.colab.kernel.invokeFunction(\n",
              "            'suggestCharts', [key], {});\n",
              "      } catch (error) {\n",
              "        console.error('Error during call to suggestCharts:', error);\n",
              "      }\n",
              "      quickchartButtonEl.classList.remove('colab-df-spinner');\n",
              "      quickchartButtonEl.classList.add('colab-df-quickchart-complete');\n",
              "    }\n",
              "    (() => {\n",
              "      let quickchartButtonEl =\n",
              "        document.querySelector('#df-275c8d91-9ccc-4cae-92bf-d9849bf1e5c0 button');\n",
              "      quickchartButtonEl.style.display =\n",
              "        google.colab.kernel.accessAllowed ? 'block' : 'none';\n",
              "    })();\n",
              "  </script>\n",
              "</div>\n",
              "    </div>\n",
              "  </div>\n"
            ],
            "application/vnd.google.colaboratory.intrinsic+json": {
              "type": "dataframe",
              "variable_name": "data",
              "summary": "{\n  \"name\": \"data\",\n  \"rows\": 3475,\n  \"fields\": [\n    {\n      \"column\": \"Close\",\n      \"properties\": {\n        \"dtype\": \"number\",\n        \"std\": 18887.075221870633,\n        \"min\": 178.10299682617188,\n        \"max\": 73083.5,\n        \"num_unique_values\": 3472,\n        \"samples\": [\n          4025.22900390625,\n          1071.7900390625,\n          8787.7861328125\n        ],\n        \"semantic_type\": \"\",\n        \"description\": \"\"\n      }\n    }\n  ]\n}"
            }
          },
          "metadata": {},
          "execution_count": 6
        }
      ],
      "source": [
        "data"
      ]
    },
    {
      "cell_type": "code",
      "execution_count": 7,
      "id": "80f8e2a6-563d-49f5-a3c5-c5f52e8c66c6",
      "metadata": {
        "colab": {
          "base_uri": "https://localhost:8080/",
          "height": 434
        },
        "id": "80f8e2a6-563d-49f5-a3c5-c5f52e8c66c6",
        "outputId": "45304472-0ed0-4acc-c110-58351d26495d"
      },
      "outputs": [
        {
          "output_type": "display_data",
          "data": {
            "text/plain": [
              "<Figure size 1600x600 with 1 Axes>"
            ],
            "image/png": "[encoded data removed]"
          },
          "metadata": {}
        }
      ],
      "source": [
        "plt.figure(figsize=(16, 6))\n",
        "plt.plot(data)\n",
        "plt.show()"
      ]
    },
    {
      "cell_type": "code",
      "execution_count": 8,
      "id": "ec7c961a-6783-4289-b102-98facb5142bb",
      "metadata": {
        "id": "ec7c961a-6783-4289-b102-98facb5142bb"
      },
      "outputs": [],
      "source": [
        "train_data = data[:-100]\n",
        "test_data = data[-100:]"
      ]
    },
    {
      "cell_type": "code",
      "execution_count": 9,
      "id": "70d9f005-edb6-47ac-ae47-04c70b6e0214",
      "metadata": {
        "colab": {
          "base_uri": "https://localhost:8080/"
        },
        "id": "70d9f005-edb6-47ac-ae47-04c70b6e0214",
        "outputId": "d4761279-2968-4186-d88e-5c7d85b1b117"
      },
      "outputs": [
        {
          "output_type": "execute_result",
          "data": {
            "text/plain": [
              "(3375, 1)"
            ]
          },
          "metadata": {},
          "execution_count": 9
        }
      ],
      "source": [
        "train_data.shape"
      ]
    },
    {
      "cell_type": "code",
      "execution_count": 10,
      "id": "17461adf-dd77-4ad6-9e82-0cee9f3e0fc2",
      "metadata": {
        "colab": {
          "base_uri": "https://localhost:8080/"
        },
        "id": "17461adf-dd77-4ad6-9e82-0cee9f3e0fc2",
        "outputId": "2e97c8b3-8e3a-4c0e-864d-5cf8cdddd173"
      },
      "outputs": [
        {
          "output_type": "execute_result",
          "data": {
            "text/plain": [
              "(100, 1)"
            ]
          },
          "metadata": {},
          "execution_count": 10
        }
      ],
      "source": [
        "test_data.shape"
      ]
    },
    {
      "cell_type": "code",
      "execution_count": 11,
      "id": "bdeacaf3-7db7-40e7-8385-45bbd7dd31c5",
      "metadata": {
        "id": "bdeacaf3-7db7-40e7-8385-45bbd7dd31c5"
      },
      "outputs": [],
      "source": [
        "from sklearn.preprocessing import MinMaxScaler\n",
        "scaler = MinMaxScaler(feature_range=(0,1))"
      ]
    },
    {
      "cell_type": "code",
      "execution_count": 12,
      "id": "96af2fa8-6e35-41b0-9186-3d48b9fe6c81",
      "metadata": {
        "id": "96af2fa8-6e35-41b0-9186-3d48b9fe6c81"
      },
      "outputs": [],
      "source": [
        "train_data_scale = scaler.fit_transform(train_data)"
      ]
    },
    {
      "cell_type": "code",
      "execution_count": 13,
      "id": "01178263-4f35-408d-bcc0-bbe5d807aca8",
      "metadata": {
        "id": "01178263-4f35-408d-bcc0-bbe5d807aca8"
      },
      "outputs": [],
      "source": [
        "base_days = 100"
      ]
    },
    {
      "cell_type": "code",
      "execution_count": 14,
      "id": "16faf40a-a0b2-4f81-a085-28f4e8162661",
      "metadata": {
        "id": "16faf40a-a0b2-4f81-a085-28f4e8162661"
      },
      "outputs": [],
      "source": [
        "x = []\n",
        "y = []\n",
        "for i in range(base_days, train_data_scale.shape[0]):\n",
        "    x.append(train_data_scale[i-base_days:i])\n",
        "    y.append(train_data_scale[i,0])"
      ]
    },
    {
      "cell_type": "code",
      "execution_count": 15,
      "id": "1a1648d5-98be-4775-b815-92e832b76363",
      "metadata": {
        "id": "1a1648d5-98be-4775-b815-92e832b76363"
      },
      "outputs": [],
      "source": [
        "x, y = np.array(x), np.array(y)"
      ]
    },
    {
      "cell_type": "code",
      "execution_count": 16,
      "id": "f735ac5f-ce83-443b-bcff-32745bb41f06",
      "metadata": {
        "id": "f735ac5f-ce83-443b-bcff-32745bb41f06"
      },
      "outputs": [],
      "source": [
        "x = np.reshape(x, (x.shape[0],x.shape[1], 1))"
      ]
    },
    {
      "cell_type": "code",
      "execution_count": 17,
      "id": "08173c3a-f069-46a4-a165-88c5ae11c564",
      "metadata": {
        "id": "08173c3a-f069-46a4-a165-88c5ae11c564"
      },
      "outputs": [],
      "source": [
        "from keras.layers import LSTM, Dense, Dropout, MaxPooling1D, Conv1D\n",
        "from keras.models import Sequential"
      ]
    },
    {
      "cell_type": "code",
      "execution_count": 18,
      "id": "ca64e68e-753d-4c09-900c-ab6551e679f2",
      "metadata": {
        "id": "ca64e68e-753d-4c09-900c-ab6551e679f2"
      },
      "outputs": [],
      "source": [
        "model = Sequential()\n",
        "\n",
        "model.add(LSTM(50, activation = 'relu', return_sequences=True, input_shape=(x.shape[1],1)))\n",
        "model.add(Dropout(0.2))\n",
        "model.add(LSTM(60, activation='relu', return_sequences=True))\n",
        "model.add(Dropout(0.3))\n",
        "model.add(LSTM(80, activation='relu', return_sequences=True))\n",
        "model.add(Dropout(0.4))\n",
        "model.add(LSTM(120, activation='relu'))\n",
        "model.add(Dropout(0.5))\n",
        "\n",
        "model.add(Dense(units=1))"
      ]
    },
    {
      "cell_type": "code",
      "execution_count": 19,
      "id": "1ed41f8b-f408-4144-935d-5415f4649a1a",
      "metadata": {
        "colab": {
          "base_uri": "https://localhost:8080/"
        },
        "id": "1ed41f8b-f408-4144-935d-5415f4649a1a",
        "outputId": "6356fbcb-3aa5-46ca-f7a5-f885d2f82f2c"
      },
      "outputs": [
        {
          "output_type": "stream",
          "name": "stdout",
          "text": [
            "Model: \"sequential\"\n",
            "_________________________________________________________________\n",
            " Layer (type)                Output Shape              Param #   \n",
            "=================================================================\n",
            " lstm (LSTM)                 (None, 100, 50)           10400     \n",
            "                                                                 \n",
            " dropout (Dropout)           (None, 100, 50)           0         \n",
            "                                                                 \n",
            " lstm_1 (LSTM)               (None, 100, 60)           26640     \n",
            "                                                                 \n",
            " dropout_1 (Dropout)         (None, 100, 60)           0         \n",
            "                                                                 \n",
            " lstm_2 (LSTM)               (None, 100, 80)           45120     \n",
            "                                                                 \n",
            " dropout_2 (Dropout)         (None, 100, 80)           0         \n",
            "                                                                 \n",
            " lstm_3 (LSTM)               (None, 120)               96480     \n",
            "                                                                 \n",
            " dropout_3 (Dropout)         (None, 120)               0         \n",
            "                                                                 \n",
            " dense (Dense)               (None, 1)                 121       \n",
            "                                                                 \n",
            "=================================================================\n",
            "Total params: 178761 (698.29 KB)\n",
            "Trainable params: 178761 (698.29 KB)\n",
            "Non-trainable params: 0 (0.00 Byte)\n",
            "_________________________________________________________________\n"
          ]
        }
      ],
      "source": [
        "model.summary()"
      ]
    },
    {
      "cell_type": "code",
      "execution_count": 20,
      "id": "f0606cb2-9385-4a24-8f7b-2e60d00cd8d0",
      "metadata": {
        "id": "f0606cb2-9385-4a24-8f7b-2e60d00cd8d0"
      },
      "outputs": [],
      "source": [
        "model.compile(optimizer='adam', loss = 'mean_squared_error')"
      ]
    },
    {
      "cell_type": "code",
      "execution_count": 21,
      "id": "c6466623-7cb1-4368-990c-9d2831935f69",
      "metadata": {
        "colab": {
          "base_uri": "https://localhost:8080/"
        },
        "id": "c6466623-7cb1-4368-990c-9d2831935f69",
        "outputId": "23cdb1e4-0b3c-4c64-e3e3-349fa3d4ff2f"
      },
      "outputs": [
        {
          "output_type": "stream",
          "name": "stdout",
          "text": [
            "Epoch 1/50\n",
            "103/103 [==============================] - 36s 299ms/step - loss: 0.0156\n",
            "Epoch 2/50\n",
            "103/103 [==============================] - 31s 306ms/step - loss: 0.0058\n",
            "Epoch 3/50\n",
            "103/103 [==============================] - 32s 304ms/step - loss: 0.0044\n",
            "Epoch 4/50\n",
            "103/103 [==============================] - 31s 297ms/step - loss: 0.0042\n",
            "Epoch 5/50\n",
            "103/103 [==============================] - 31s 297ms/step - loss: 0.0041\n",
            "Epoch 6/50\n",
            "103/103 [==============================] - 31s 300ms/step - loss: 0.0034\n",
            "Epoch 7/50\n",
            "103/103 [==============================] - 32s 309ms/step - loss: 0.0032\n",
            "Epoch 8/50\n",
            "103/103 [==============================] - 31s 298ms/step - loss: 0.0032\n",
            "Epoch 9/50\n",
            "103/103 [==============================] - 31s 303ms/step - loss: 0.0029\n",
            "Epoch 10/50\n",
            "103/103 [==============================] - 30s 295ms/step - loss: 0.0028\n",
            "Epoch 11/50\n",
            "103/103 [==============================] - 30s 296ms/step - loss: 0.0028\n",
            "Epoch 12/50\n",
            "103/103 [==============================] - 32s 308ms/step - loss: 0.0026\n",
            "Epoch 13/50\n",
            "103/103 [==============================] - 30s 295ms/step - loss: 0.0024\n",
            "Epoch 14/50\n",
            "103/103 [==============================] - 30s 295ms/step - loss: 0.0025\n",
            "Epoch 15/50\n",
            "103/103 [==============================] - 30s 293ms/step - loss: 0.0024\n",
            "Epoch 16/50\n",
            "103/103 [==============================] - 31s 297ms/step - loss: 0.0024\n",
            "Epoch 17/50\n",
            "103/103 [==============================] - 32s 305ms/step - loss: 0.0025\n",
            "Epoch 18/50\n",
            "103/103 [==============================] - 30s 295ms/step - loss: 0.0023\n",
            "Epoch 19/50\n",
            "103/103 [==============================] - 31s 303ms/step - loss: 0.0026\n",
            "Epoch 20/50\n",
            "103/103 [==============================] - 31s 297ms/step - loss: 0.0023\n",
            "Epoch 21/50\n",
            "103/103 [==============================] - 36s 353ms/step - loss: 0.0021\n",
            "Epoch 22/50\n",
            "103/103 [==============================] - 31s 299ms/step - loss: 0.0021\n",
            "Epoch 23/50\n",
            "103/103 [==============================] - 31s 300ms/step - loss: 0.0020\n",
            "Epoch 24/50\n",
            "103/103 [==============================] - 31s 298ms/step - loss: 0.0020\n",
            "Epoch 25/50\n",
            "103/103 [==============================] - 32s 307ms/step - loss: 0.0019\n",
            "Epoch 26/50\n",
            "103/103 [==============================] - 31s 298ms/step - loss: 0.0020\n",
            "Epoch 27/50\n",
            "103/103 [==============================] - 30s 296ms/step - loss: 0.0020\n",
            "Epoch 28/50\n",
            "103/103 [==============================] - 30s 292ms/step - loss: 0.0020\n",
            "Epoch 29/50\n",
            "103/103 [==============================] - 30s 295ms/step - loss: 0.0019\n",
            "Epoch 30/50\n",
            "103/103 [==============================] - 31s 301ms/step - loss: 0.0020\n",
            "Epoch 31/50\n",
            "103/103 [==============================] - 30s 289ms/step - loss: 0.0019\n",
            "Epoch 32/50\n",
            "103/103 [==============================] - 30s 294ms/step - loss: 0.0019\n",
            "Epoch 33/50\n",
            "103/103 [==============================] - 30s 291ms/step - loss: 0.0020\n",
            "Epoch 34/50\n",
            "103/103 [==============================] - 30s 294ms/step - loss: 0.0019\n",
            "Epoch 35/50\n",
            "103/103 [==============================] - 32s 307ms/step - loss: 0.0020\n",
            "Epoch 36/50\n",
            "103/103 [==============================] - 30s 293ms/step - loss: 0.0019\n",
            "Epoch 37/50\n",
            "103/103 [==============================] - 31s 296ms/step - loss: 0.0019\n",
            "Epoch 38/50\n",
            "103/103 [==============================] - 31s 298ms/step - loss: 0.0017\n",
            "Epoch 39/50\n",
            "103/103 [==============================] - 31s 306ms/step - loss: 0.0019\n",
            "Epoch 40/50\n",
            "103/103 [==============================] - 35s 335ms/step - loss: 0.0019\n",
            "Epoch 41/50\n",
            "103/103 [==============================] - 31s 298ms/step - loss: 0.0019\n",
            "Epoch 42/50\n",
            "103/103 [==============================] - 30s 290ms/step - loss: 0.0020\n",
            "Epoch 43/50\n",
            "103/103 [==============================] - 31s 297ms/step - loss: 0.0022\n",
            "Epoch 44/50\n",
            "103/103 [==============================] - 32s 307ms/step - loss: 0.0019\n",
            "Epoch 45/50\n",
            "103/103 [==============================] - 31s 300ms/step - loss: 0.0020\n",
            "Epoch 46/50\n",
            "103/103 [==============================] - 30s 294ms/step - loss: 0.0018\n",
            "Epoch 47/50\n",
            "103/103 [==============================] - 31s 297ms/step - loss: 0.0017\n",
            "Epoch 48/50\n",
            "103/103 [==============================] - 30s 295ms/step - loss: 0.0019\n",
            "Epoch 49/50\n",
            "103/103 [==============================] - 31s 306ms/step - loss: 0.0017\n",
            "Epoch 50/50\n",
            "103/103 [==============================] - 31s 302ms/step - loss: 0.0019\n"
          ]
        },
        {
          "output_type": "execute_result",
          "data": {
            "text/plain": [
              "<keras.src.callbacks.History at 0x7ea2e271ec50>"
            ]
          },
          "metadata": {},
          "execution_count": 21
        }
      ],
      "source": [
        "model.fit(x, y, epochs=50, verbose=1 )"
      ]
    },
    {
      "cell_type": "code",
      "execution_count": 22,
      "id": "dafce5a7-5925-41ab-80c1-e419895edb22",
      "metadata": {
        "id": "dafce5a7-5925-41ab-80c1-e419895edb22"
      },
      "outputs": [],
      "source": [
        "test_data = pd.concat((train_data.tail(100), test_data), ignore_index=True)"
      ]
    },
    {
      "cell_type": "code",
      "source": [
        "train_data.tail(100)"
      ],
      "metadata": {
        "colab": {
          "base_uri": "https://localhost:8080/",
          "height": 423
        },
        "id": "aoF35bJI_iTL",
        "outputId": "09cb830c-e63a-4096-bc70-310ea41b5fb3"
      },
      "id": "aoF35bJI_iTL",
      "execution_count": 23,
      "outputs": [
        {
          "output_type": "execute_result",
          "data": {
            "text/plain": [
              "             Close\n",
              "3275  43652.250000\n",
              "3276  43869.152344\n",
              "3277  43997.902344\n",
              "3278  43739.542969\n",
              "3279  43016.117188\n",
              "...            ...\n",
              "3370  67234.171875\n",
              "3371  69958.812500\n",
              "3372  69987.835938\n",
              "3373  69455.343750\n",
              "3374  70744.953125\n",
              "\n",
              "[100 rows x 1 columns]"
            ],
            "text/html": [
              "\n",
              "  <div id=\"df-082f4988-9165-43e5-a6e3-acac165d5000\" class=\"colab-df-container\">\n",
              "    <div>\n",
              "<style scoped>\n",
              "    .dataframe tbody tr th:only-of-type {\n",
              "        vertical-align: middle;\n",
              "    }\n",
              "\n",
              "    .dataframe tbody tr th {\n",
              "        vertical-align: top;\n",
              "    }\n",
              "\n",
              "    .dataframe thead th {\n",
              "        text-align: right;\n",
              "    }\n",
              "</style>\n",
              "<table border=\"1\" class=\"dataframe\">\n",
              "  <thead>\n",
              "    <tr style=\"text-align: right;\">\n",
              "      <th></th>\n",
              "      <th>Close</th>\n",
              "    </tr>\n",
              "  </thead>\n",
              "  <tbody>\n",
              "    <tr>\n",
              "      <th>3275</th>\n",
              "      <td>43652.250000</td>\n",
              "    </tr>\n",
              "    <tr>\n",
              "      <th>3276</th>\n",
              "      <td>43869.152344</td>\n",
              "    </tr>\n",
              "    <tr>\n",
              "      <th>3277</th>\n",
              "      <td>43997.902344</td>\n",
              "    </tr>\n",
              "    <tr>\n",
              "      <th>3278</th>\n",
              "      <td>43739.542969</td>\n",
              "    </tr>\n",
              "    <tr>\n",
              "      <th>3279</th>\n",
              "      <td>43016.117188</td>\n",
              "    </tr>\n",
              "    <tr>\n",
              "      <th>...</th>\n",
              "      <td>...</td>\n",
              "    </tr>\n",
              "    <tr>\n",
              "      <th>3370</th>\n",
              "      <td>67234.171875</td>\n",
              "    </tr>\n",
              "    <tr>\n",
              "      <th>3371</th>\n",
              "      <td>69958.812500</td>\n",
              "    </tr>\n",
              "    <tr>\n",
              "      <th>3372</th>\n",
              "      <td>69987.835938</td>\n",
              "    </tr>\n",
              "    <tr>\n",
              "      <th>3373</th>\n",
              "      <td>69455.343750</td>\n",
              "    </tr>\n",
              "    <tr>\n",
              "      <th>3374</th>\n",
              "      <td>70744.953125</td>\n",
              "    </tr>\n",
              "  </tbody>\n",
              "</table>\n",
              "<p>100 rows × 1 columns</p>\n",
              "</div>\n",
              "    <div class=\"colab-df-buttons\">\n",
              "\n",
              "  <div class=\"colab-df-container\">\n",
              "    <button class=\"colab-df-convert\" onclick=\"convertToInteractive('df-082f4988-9165-43e5-a6e3-acac165d5000')\"\n",
              "            title=\"Convert this dataframe to an interactive table.\"\n",
              "            style=\"display:none;\">\n",
              "\n",
              "  <svg xmlns=\"http://www.w3.org/2000/svg\" height=\"24px\" viewBox=\"0 -960 960 960\">\n",
              "    <path d=\"M120-120v-720h720v720H120Zm60-500h600v-160H180v160Zm220 220h160v-160H400v160Zm0 220h160v-160H400v160ZM180-400h160v-160H180v160Zm440 0h160v-160H620v160ZM180-180h160v-160H180v160Zm440 0h160v-160H620v160Z\"/>\n",
              "  </svg>\n",
              "    </button>\n",
              "\n",
              "  <style>\n",
              "    .colab-df-container {\n",
              "      display:flex;\n",
              "      gap: 12px;\n",
              "    }\n",
              "\n",
              "    .colab-df-convert {\n",
              "      background-color: #E8F0FE;\n",
              "      border: none;\n",
              "      border-radius: 50%;\n",
              "      cursor: pointer;\n",
              "      display: none;\n",
              "      fill: #1967D2;\n",
              "      height: 32px;\n",
              "      padding: 0 0 0 0;\n",
              "      width: 32px;\n",
              "    }\n",
              "\n",
              "    .colab-df-convert:hover {\n",
              "      background-color: #E2EBFA;\n",
              "      box-shadow: 0px 1px 2px rgba(60, 64, 67, 0.3), 0px 1px 3px 1px rgba(60, 64, 67, 0.15);\n",
              "      fill: #174EA6;\n",
              "    }\n",
              "\n",
              "    .colab-df-buttons div {\n",
              "      margin-bottom: 4px;\n",
              "    }\n",
              "\n",
              "    [theme=dark] .colab-df-convert {\n",
              "      background-color: #3B4455;\n",
              "      fill: #D2E3FC;\n",
              "    }\n",
              "\n",
              "    [theme=dark] .colab-df-convert:hover {\n",
              "      background-color: #434B5C;\n",
              "      box-shadow: 0px 1px 3px 1px rgba(0, 0, 0, 0.15);\n",
              "      filter: drop-shadow(0px 1px 2px rgba(0, 0, 0, 0.3));\n",
              "      fill: #FFFFFF;\n",
              "    }\n",
              "  </style>\n",
              "\n",
              "    <script>\n",
              "      const buttonEl =\n",
              "        document.querySelector('#df-082f4988-9165-43e5-a6e3-acac165d5000 button.colab-df-convert');\n",
              "      buttonEl.style.display =\n",
              "        google.colab.kernel.accessAllowed ? 'block' : 'none';\n",
              "\n",
              "      async function convertToInteractive(key) {\n",
              "        const element = document.querySelector('#df-082f4988-9165-43e5-a6e3-acac165d5000');\n",
              "        const dataTable =\n",
              "          await google.colab.kernel.invokeFunction('convertToInteractive',\n",
              "                                                    [key], {});\n",
              "        if (!dataTable) return;\n",
              "\n",
              "        const docLinkHtml = 'Like what you see? Visit the ' +\n",
              "          '<a target=\"_blank\" href=https://colab.research.google.com/notebooks/data_table.ipynb>data table notebook</a>'\n",
              "          + ' to learn more about interactive tables.';\n",
              "        element.innerHTML = '';\n",
              "        dataTable['output_type'] = 'display_data';\n",
              "        await google.colab.output.renderOutput(dataTable, element);\n",
              "        const docLink = document.createElement('div');\n",
              "        docLink.innerHTML = docLinkHtml;\n",
              "        element.appendChild(docLink);\n",
              "      }\n",
              "    </script>\n",
              "  </div>\n",
              "\n",
              "\n",
              "<div id=\"df-16f1c0d6-d41a-43b4-9a7c-17f9694bb32c\">\n",
              "  <button class=\"colab-df-quickchart\" onclick=\"quickchart('df-16f1c0d6-d41a-43b4-9a7c-17f9694bb32c')\"\n",
              "            title=\"Suggest charts\"\n",
              "            style=\"display:none;\">\n",
              "\n",
              "<svg xmlns=\"http://www.w3.org/2000/svg\" height=\"24px\"viewBox=\"0 0 24 24\"\n",
              "     width=\"24px\">\n",
              "    <g>\n",
              "        <path d=\"M19 3H5c-1.1 0-2 .9-2 2v14c0 1.1.9 2 2 2h14c1.1 0 2-.9 2-2V5c0-1.1-.9-2-2-2zM9 17H7v-7h2v7zm4 0h-2V7h2v10zm4 0h-2v-4h2v4z\"/>\n",
              "    </g>\n",
              "</svg>\n",
              "  </button>\n",
              "\n",
              "<style>\n",
              "  .colab-df-quickchart {\n",
              "      --bg-color: #E8F0FE;\n",
              "      --fill-color: #1967D2;\n",
              "      --hover-bg-color: #E2EBFA;\n",
              "      --hover-fill-color: #174EA6;\n",
              "      --disabled-fill-color: #AAA;\n",
              "      --disabled-bg-color: #DDD;\n",
              "  }\n",
              "\n",
              "  [theme=dark] .colab-df-quickchart {\n",
              "      --bg-color: #3B4455;\n",
              "      --fill-color: #D2E3FC;\n",
              "      --hover-bg-color: #434B5C;\n",
              "      --hover-fill-color: #FFFFFF;\n",
              "      --disabled-bg-color: #3B4455;\n",
              "      --disabled-fill-color: #666;\n",
              "  }\n",
              "\n",
              "  .colab-df-quickchart {\n",
              "    background-color: var(--bg-color);\n",
              "    border: none;\n",
              "    border-radius: 50%;\n",
              "    cursor: pointer;\n",
              "    display: none;\n",
              "    fill: var(--fill-color);\n",
              "    height: 32px;\n",
              "    padding: 0;\n",
              "    width: 32px;\n",
              "  }\n",
              "\n",
              "  .colab-df-quickchart:hover {\n",
              "    background-color: var(--hover-bg-color);\n",
              "    box-shadow: 0 1px 2px rgba(60, 64, 67, 0.3), 0 1px 3px 1px rgba(60, 64, 67, 0.15);\n",
              "    fill: var(--button-hover-fill-color);\n",
              "  }\n",
              "\n",
              "  .colab-df-quickchart-complete:disabled,\n",
              "  .colab-df-quickchart-complete:disabled:hover {\n",
              "    background-color: var(--disabled-bg-color);\n",
              "    fill: var(--disabled-fill-color);\n",
              "    box-shadow: none;\n",
              "  }\n",
              "\n",
              "  .colab-df-spinner {\n",
              "    border: 2px solid var(--fill-color);\n",
              "    border-color: transparent;\n",
              "    border-bottom-color: var(--fill-color);\n",
              "    animation:\n",
              "      spin 1s steps(1) infinite;\n",
              "  }\n",
              "\n",
              "  @keyframes spin {\n",
              "    0% {\n",
              "      border-color: transparent;\n",
              "      border-bottom-color: var(--fill-color);\n",
              "      border-left-color: var(--fill-color);\n",
              "    }\n",
              "    20% {\n",
              "      border-color: transparent;\n",
              "      border-left-color: var(--fill-color);\n",
              "      border-top-color: var(--fill-color);\n",
              "    }\n",
              "    30% {\n",
              "      border-color: transparent;\n",
              "      border-left-color: var(--fill-color);\n",
              "      border-top-color: var(--fill-color);\n",
              "      border-right-color: var(--fill-color);\n",
              "    }\n",
              "    40% {\n",
              "      border-color: transparent;\n",
              "      border-right-color: var(--fill-color);\n",
              "      border-top-color: var(--fill-color);\n",
              "    }\n",
              "    60% {\n",
              "      border-color: transparent;\n",
              "      border-right-color: var(--fill-color);\n",
              "    }\n",
              "    80% {\n",
              "      border-color: transparent;\n",
              "      border-right-color: var(--fill-color);\n",
              "      border-bottom-color: var(--fill-color);\n",
              "    }\n",
              "    90% {\n",
              "      border-color: transparent;\n",
              "      border-bottom-color: var(--fill-color);\n",
              "    }\n",
              "  }\n",
              "</style>\n",
              "\n",
              "  <script>\n",
              "    async function quickchart(key) {\n",
              "      const quickchartButtonEl =\n",
              "        document.querySelector('#' + key + ' button');\n",
              "      quickchartButtonEl.disabled = true;  // To prevent multiple clicks.\n",
              "      quickchartButtonEl.classList.add('colab-df-spinner');\n",
              "      try {\n",
              "        const charts = await google.colab.kernel.invokeFunction(\n",
              "            'suggestCharts', [key], {});\n",
              "      } catch (error) {\n",
              "        console.error('Error during call to suggestCharts:', error);\n",
              "      }\n",
              "      quickchartButtonEl.classList.remove('colab-df-spinner');\n",
              "      quickchartButtonEl.classList.add('colab-df-quickchart-complete');\n",
              "    }\n",
              "    (() => {\n",
              "      let quickchartButtonEl =\n",
              "        document.querySelector('#df-16f1c0d6-d41a-43b4-9a7c-17f9694bb32c button');\n",
              "      quickchartButtonEl.style.display =\n",
              "        google.colab.kernel.accessAllowed ? 'block' : 'none';\n",
              "    })();\n",
              "  </script>\n",
              "</div>\n",
              "    </div>\n",
              "  </div>\n"
            ],
            "application/vnd.google.colaboratory.intrinsic+json": {
              "type": "dataframe",
              "summary": "{\n  \"name\": \"train_data\",\n  \"rows\": 100,\n  \"fields\": [\n    {\n      \"column\": \"Close\",\n      \"properties\": {\n        \"dtype\": \"number\",\n        \"std\": 10757.10832456248,\n        \"min\": 39507.3671875,\n        \"max\": 73083.5,\n        \"num_unique_values\": 100,\n        \"samples\": [\n          71481.2890625,\n          48293.91796875,\n          62504.7890625\n        ],\n        \"semantic_type\": \"\",\n        \"description\": \"\"\n      }\n    }\n  ]\n}"
            }
          },
          "metadata": {},
          "execution_count": 23
        }
      ]
    },
    {
      "cell_type": "code",
      "execution_count": 24,
      "id": "5ce72073-66b7-4fb9-871d-e67d0b982671",
      "metadata": {
        "id": "5ce72073-66b7-4fb9-871d-e67d0b982671",
        "outputId": "d9cb609d-7db8-4ab1-b0a0-884dd78e2272",
        "colab": {
          "base_uri": "https://localhost:8080/",
          "height": 423
        }
      },
      "outputs": [
        {
          "output_type": "execute_result",
          "data": {
            "text/plain": [
              "            Close\n",
              "0    43652.250000\n",
              "1    43869.152344\n",
              "2    43997.902344\n",
              "3    43739.542969\n",
              "4    43016.117188\n",
              "..            ...\n",
              "195  62029.015625\n",
              "196  60173.921875\n",
              "197  56977.703125\n",
              "198  56662.375000\n",
              "199  58303.539062\n",
              "\n",
              "[200 rows x 1 columns]"
            ],
            "text/html": [
              "\n",
              "  <div id=\"df-f3a2c4e9-8ec2-455c-840b-d253cef8bb60\" class=\"colab-df-container\">\n",
              "    <div>\n",
              "<style scoped>\n",
              "    .dataframe tbody tr th:only-of-type {\n",
              "        vertical-align: middle;\n",
              "    }\n",
              "\n",
              "    .dataframe tbody tr th {\n",
              "        vertical-align: top;\n",
              "    }\n",
              "\n",
              "    .dataframe thead th {\n",
              "        text-align: right;\n",
              "    }\n",
              "</style>\n",
              "<table border=\"1\" class=\"dataframe\">\n",
              "  <thead>\n",
              "    <tr style=\"text-align: right;\">\n",
              "      <th></th>\n",
              "      <th>Close</th>\n",
              "    </tr>\n",
              "  </thead>\n",
              "  <tbody>\n",
              "    <tr>\n",
              "      <th>0</th>\n",
              "      <td>43652.250000</td>\n",
              "    </tr>\n",
              "    <tr>\n",
              "      <th>1</th>\n",
              "      <td>43869.152344</td>\n",
              "    </tr>\n",
              "    <tr>\n",
              "      <th>2</th>\n",
              "      <td>43997.902344</td>\n",
              "    </tr>\n",
              "    <tr>\n",
              "      <th>3</th>\n",
              "      <td>43739.542969</td>\n",
              "    </tr>\n",
              "    <tr>\n",
              "      <th>4</th>\n",
              "      <td>43016.117188</td>\n",
              "    </tr>\n",
              "    <tr>\n",
              "      <th>...</th>\n",
              "      <td>...</td>\n",
              "    </tr>\n",
              "    <tr>\n",
              "      <th>195</th>\n",
              "      <td>62029.015625</td>\n",
              "    </tr>\n",
              "    <tr>\n",
              "      <th>196</th>\n",
              "      <td>60173.921875</td>\n",
              "    </tr>\n",
              "    <tr>\n",
              "      <th>197</th>\n",
              "      <td>56977.703125</td>\n",
              "    </tr>\n",
              "    <tr>\n",
              "      <th>198</th>\n",
              "      <td>56662.375000</td>\n",
              "    </tr>\n",
              "    <tr>\n",
              "      <th>199</th>\n",
              "      <td>58303.539062</td>\n",
              "    </tr>\n",
              "  </tbody>\n",
              "</table>\n",
              "<p>200 rows × 1 columns</p>\n",
              "</div>\n",
              "    <div class=\"colab-df-buttons\">\n",
              "\n",
              "  <div class=\"colab-df-container\">\n",
              "    <button class=\"colab-df-convert\" onclick=\"convertToInteractive('df-f3a2c4e9-8ec2-455c-840b-d253cef8bb60')\"\n",
              "            title=\"Convert this dataframe to an interactive table.\"\n",
              "            style=\"display:none;\">\n",
              "\n",
              "  <svg xmlns=\"http://www.w3.org/2000/svg\" height=\"24px\" viewBox=\"0 -960 960 960\">\n",
              "    <path d=\"M120-120v-720h720v720H120Zm60-500h600v-160H180v160Zm220 220h160v-160H400v160Zm0 220h160v-160H400v160ZM180-400h160v-160H180v160Zm440 0h160v-160H620v160ZM180-180h160v-160H180v160Zm440 0h160v-160H620v160Z\"/>\n",
              "  </svg>\n",
              "    </button>\n",
              "\n",
              "  <style>\n",
              "    .colab-df-container {\n",
              "      display:flex;\n",
              "      gap: 12px;\n",
              "    }\n",
              "\n",
              "    .colab-df-convert {\n",
              "      background-color: #E8F0FE;\n",
              "      border: none;\n",
              "      border-radius: 50%;\n",
              "      cursor: pointer;\n",
              "      display: none;\n",
              "      fill: #1967D2;\n",
              "      height: 32px;\n",
              "      padding: 0 0 0 0;\n",
              "      width: 32px;\n",
              "    }\n",
              "\n",
              "    .colab-df-convert:hover {\n",
              "      background-color: #E2EBFA;\n",
              "      box-shadow: 0px 1px 2px rgba(60, 64, 67, 0.3), 0px 1px 3px 1px rgba(60, 64, 67, 0.15);\n",
              "      fill: #174EA6;\n",
              "    }\n",
              "\n",
              "    .colab-df-buttons div {\n",
              "      margin-bottom: 4px;\n",
              "    }\n",
              "\n",
              "    [theme=dark] .colab-df-convert {\n",
              "      background-color: #3B4455;\n",
              "      fill: #D2E3FC;\n",
              "    }\n",
              "\n",
              "    [theme=dark] .colab-df-convert:hover {\n",
              "      background-color: #434B5C;\n",
              "      box-shadow: 0px 1px 3px 1px rgba(0, 0, 0, 0.15);\n",
              "      filter: drop-shadow(0px 1px 2px rgba(0, 0, 0, 0.3));\n",
              "      fill: #FFFFFF;\n",
              "    }\n",
              "  </style>\n",
              "\n",
              "    <script>\n",
              "      const buttonEl =\n",
              "        document.querySelector('#df-f3a2c4e9-8ec2-455c-840b-d253cef8bb60 button.colab-df-convert');\n",
              "      buttonEl.style.display =\n",
              "        google.colab.kernel.accessAllowed ? 'block' : 'none';\n",
              "\n",
              "      async function convertToInteractive(key) {\n",
              "        const element = document.querySelector('#df-f3a2c4e9-8ec2-455c-840b-d253cef8bb60');\n",
              "        const dataTable =\n",
              "          await google.colab.kernel.invokeFunction('convertToInteractive',\n",
              "                                                    [key], {});\n",
              "        if (!dataTable) return;\n",
              "\n",
              "        const docLinkHtml = 'Like what you see? Visit the ' +\n",
              "          '<a target=\"_blank\" href=https://colab.research.google.com/notebooks/data_table.ipynb>data table notebook</a>'\n",
              "          + ' to learn more about interactive tables.';\n",
              "        element.innerHTML = '';\n",
              "        dataTable['output_type'] = 'display_data';\n",
              "        await google.colab.output.renderOutput(dataTable, element);\n",
              "        const docLink = document.createElement('div');\n",
              "        docLink.innerHTML = docLinkHtml;\n",
              "        element.appendChild(docLink);\n",
              "      }\n",
              "    </script>\n",
              "  </div>\n",
              "\n",
              "\n",
              "<div id=\"df-b7367d64-bdfc-4aee-82d7-23d0c8f64816\">\n",
              "  <button class=\"colab-df-quickchart\" onclick=\"quickchart('df-b7367d64-bdfc-4aee-82d7-23d0c8f64816')\"\n",
              "            title=\"Suggest charts\"\n",
              "            style=\"display:none;\">\n",
              "\n",
              "<svg xmlns=\"http://www.w3.org/2000/svg\" height=\"24px\"viewBox=\"0 0 24 24\"\n",
              "     width=\"24px\">\n",
              "    <g>\n",
              "        <path d=\"M19 3H5c-1.1 0-2 .9-2 2v14c0 1.1.9 2 2 2h14c1.1 0 2-.9 2-2V5c0-1.1-.9-2-2-2zM9 17H7v-7h2v7zm4 0h-2V7h2v10zm4 0h-2v-4h2v4z\"/>\n",
              "    </g>\n",
              "</svg>\n",
              "  </button>\n",
              "\n",
              "<style>\n",
              "  .colab-df-quickchart {\n",
              "      --bg-color: #E8F0FE;\n",
              "      --fill-color: #1967D2;\n",
              "      --hover-bg-color: #E2EBFA;\n",
              "      --hover-fill-color: #174EA6;\n",
              "      --disabled-fill-color: #AAA;\n",
              "      --disabled-bg-color: #DDD;\n",
              "  }\n",
              "\n",
              "  [theme=dark] .colab-df-quickchart {\n",
              "      --bg-color: #3B4455;\n",
              "      --fill-color: #D2E3FC;\n",
              "      --hover-bg-color: #434B5C;\n",
              "      --hover-fill-color: #FFFFFF;\n",
              "      --disabled-bg-color: #3B4455;\n",
              "      --disabled-fill-color: #666;\n",
              "  }\n",
              "\n",
              "  .colab-df-quickchart {\n",
              "    background-color: var(--bg-color);\n",
              "    border: none;\n",
              "    border-radius: 50%;\n",
              "    cursor: pointer;\n",
              "    display: none;\n",
              "    fill: var(--fill-color);\n",
              "    height: 32px;\n",
              "    padding: 0;\n",
              "    width: 32px;\n",
              "  }\n",
              "\n",
              "  .colab-df-quickchart:hover {\n",
              "    background-color: var(--hover-bg-color);\n",
              "    box-shadow: 0 1px 2px rgba(60, 64, 67, 0.3), 0 1px 3px 1px rgba(60, 64, 67, 0.15);\n",
              "    fill: var(--button-hover-fill-color);\n",
              "  }\n",
              "\n",
              "  .colab-df-quickchart-complete:disabled,\n",
              "  .colab-df-quickchart-complete:disabled:hover {\n",
              "    background-color: var(--disabled-bg-color);\n",
              "    fill: var(--disabled-fill-color);\n",
              "    box-shadow: none;\n",
              "  }\n",
              "\n",
              "  .colab-df-spinner {\n",
              "    border: 2px solid var(--fill-color);\n",
              "    border-color: transparent;\n",
              "    border-bottom-color: var(--fill-color);\n",
              "    animation:\n",
              "      spin 1s steps(1) infinite;\n",
              "  }\n",
              "\n",
              "  @keyframes spin {\n",
              "    0% {\n",
              "      border-color: transparent;\n",
              "      border-bottom-color: var(--fill-color);\n",
              "      border-left-color: var(--fill-color);\n",
              "    }\n",
              "    20% {\n",
              "      border-color: transparent;\n",
              "      border-left-color: var(--fill-color);\n",
              "      border-top-color: var(--fill-color);\n",
              "    }\n",
              "    30% {\n",
              "      border-color: transparent;\n",
              "      border-left-color: var(--fill-color);\n",
              "      border-top-color: var(--fill-color);\n",
              "      border-right-color: var(--fill-color);\n",
              "    }\n",
              "    40% {\n",
              "      border-color: transparent;\n",
              "      border-right-color: var(--fill-color);\n",
              "      border-top-color: var(--fill-color);\n",
              "    }\n",
              "    60% {\n",
              "      border-color: transparent;\n",
              "      border-right-color: var(--fill-color);\n",
              "    }\n",
              "    80% {\n",
              "      border-color: transparent;\n",
              "      border-right-color: var(--fill-color);\n",
              "      border-bottom-color: var(--fill-color);\n",
              "    }\n",
              "    90% {\n",
              "      border-color: transparent;\n",
              "      border-bottom-color: var(--fill-color);\n",
              "    }\n",
              "  }\n",
              "</style>\n",
              "\n",
              "  <script>\n",
              "    async function quickchart(key) {\n",
              "      const quickchartButtonEl =\n",
              "        document.querySelector('#' + key + ' button');\n",
              "      quickchartButtonEl.disabled = true;  // To prevent multiple clicks.\n",
              "      quickchartButtonEl.classList.add('colab-df-spinner');\n",
              "      try {\n",
              "        const charts = await google.colab.kernel.invokeFunction(\n",
              "            'suggestCharts', [key], {});\n",
              "      } catch (error) {\n",
              "        console.error('Error during call to suggestCharts:', error);\n",
              "      }\n",
              "      quickchartButtonEl.classList.remove('colab-df-spinner');\n",
              "      quickchartButtonEl.classList.add('colab-df-quickchart-complete');\n",
              "    }\n",
              "    (() => {\n",
              "      let quickchartButtonEl =\n",
              "        document.querySelector('#df-b7367d64-bdfc-4aee-82d7-23d0c8f64816 button');\n",
              "      quickchartButtonEl.style.display =\n",
              "        google.colab.kernel.accessAllowed ? 'block' : 'none';\n",
              "    })();\n",
              "  </script>\n",
              "</div>\n",
              "    </div>\n",
              "  </div>\n"
            ],
            "application/vnd.google.colaboratory.intrinsic+json": {
              "type": "dataframe",
              "variable_name": "test_data",
              "summary": "{\n  \"name\": \"test_data\",\n  \"rows\": 200,\n  \"fields\": [\n    {\n      \"column\": \"Close\",\n      \"properties\": {\n        \"dtype\": \"number\",\n        \"std\": 10516.729670264494,\n        \"min\": 39507.3671875,\n        \"max\": 73083.5,\n        \"num_unique_values\": 200,\n        \"samples\": [\n          67234.171875,\n          44179.921875,\n          41618.40625\n        ],\n        \"semantic_type\": \"\",\n        \"description\": \"\"\n      }\n    }\n  ]\n}"
            }
          },
          "metadata": {},
          "execution_count": 24
        }
      ],
      "source": [
        "test_data"
      ]
    },
    {
      "cell_type": "code",
      "execution_count": 25,
      "id": "ad3624ce-0112-4958-b66a-dbbf5c0f9f39",
      "metadata": {
        "id": "ad3624ce-0112-4958-b66a-dbbf5c0f9f39"
      },
      "outputs": [],
      "source": [
        "test_data_scale = scaler.transform(test_data)"
      ]
    },
    {
      "cell_type": "code",
      "execution_count": 26,
      "id": "3ee2fbb6-02bc-4d45-b74c-8152607c5e01",
      "metadata": {
        "id": "3ee2fbb6-02bc-4d45-b74c-8152607c5e01"
      },
      "outputs": [],
      "source": [
        "x = []\n",
        "y = []\n",
        "\n",
        "for i in range(base_days, test_data_scale.shape[0]):\n",
        "    x.append(test_data_scale[i-base_days:i])\n",
        "    y.append(test_data_scale[i,0])"
      ]
    },
    {
      "cell_type": "code",
      "execution_count": 27,
      "id": "c9de8a50-45da-4d7a-a718-f0bb354bd518",
      "metadata": {
        "id": "c9de8a50-45da-4d7a-a718-f0bb354bd518"
      },
      "outputs": [],
      "source": [
        "x, y = np.array(x), np.array(y)"
      ]
    },
    {
      "cell_type": "code",
      "execution_count": 28,
      "id": "3889063d-4c04-4fa8-90dd-420904abdda5",
      "metadata": {
        "id": "3889063d-4c04-4fa8-90dd-420904abdda5"
      },
      "outputs": [],
      "source": [
        "x = np.reshape(x, (x.shape[0],x.shape[1],1))"
      ]
    },
    {
      "cell_type": "code",
      "execution_count": 29,
      "id": "6e7d9dda-d914-42db-b7f1-752e0e34559b",
      "metadata": {
        "id": "6e7d9dda-d914-42db-b7f1-752e0e34559b",
        "outputId": "c297985e-f34b-47ba-fc23-975a70efa1eb",
        "colab": {
          "base_uri": "https://localhost:8080/"
        }
      },
      "outputs": [
        {
          "output_type": "stream",
          "name": "stdout",
          "text": [
            "4/4 [==============================] - 1s 69ms/step\n"
          ]
        }
      ],
      "source": [
        "pred = model.predict(x)"
      ]
    },
    {
      "cell_type": "code",
      "execution_count": 30,
      "id": "eb0ff70b-6c4b-4680-ad59-dc38d7d452f0",
      "metadata": {
        "id": "eb0ff70b-6c4b-4680-ad59-dc38d7d452f0"
      },
      "outputs": [],
      "source": [
        "pred = scaler.inverse_transform(pred)"
      ]
    },
    {
      "cell_type": "code",
      "execution_count": 31,
      "id": "38733809-609d-420e-9904-e27030f36a42",
      "metadata": {
        "id": "38733809-609d-420e-9904-e27030f36a42",
        "outputId": "2997d841-f259-4930-92c5-24592f09c809",
        "colab": {
          "base_uri": "https://localhost:8080/"
        }
      },
      "outputs": [
        {
          "output_type": "execute_result",
          "data": {
            "text/plain": [
              "array([[62922.22 ],\n",
              "       [63006.652],\n",
              "       [62711.47 ],\n",
              "       [62529.82 ],\n",
              "       [62311.598],\n",
              "       [61544.59 ],\n",
              "       [60527.754],\n",
              "       [59935.016],\n",
              "       [59877.742],\n",
              "       [60339.133],\n",
              "       [61081.258],\n",
              "       [62105.48 ],\n",
              "       [62682.957],\n",
              "       [62889.582],\n",
              "       [62773.062],\n",
              "       [62135.754],\n",
              "       [60872.566],\n",
              "       [59594.184],\n",
              "       [58430.797],\n",
              "       [57630.   ],\n",
              "       [56954.31 ],\n",
              "       [56713.26 ],\n",
              "       [56951.98 ],\n",
              "       [57624.61 ],\n",
              "       [58407.035],\n",
              "       [59283.156],\n",
              "       [59971.44 ],\n",
              "       [59993.637],\n",
              "       [59548.85 ],\n",
              "       [58856.758],\n",
              "       [58139.35 ],\n",
              "       [57545.625],\n",
              "       [57299.24 ],\n",
              "       [56927.383],\n",
              "       [56130.594],\n",
              "       [55211.64 ],\n",
              "       [54964.105],\n",
              "       [55668.76 ],\n",
              "       [56912.348],\n",
              "       [57962.637],\n",
              "       [58371.8  ],\n",
              "       [58041.11 ],\n",
              "       [57560.09 ],\n",
              "       [56920.195],\n",
              "       [56278.81 ],\n",
              "       [55876.336],\n",
              "       [55975.242],\n",
              "       [56273.125],\n",
              "       [57223.293],\n",
              "       [58381.926],\n",
              "       [59560.844],\n",
              "       [60437.098],\n",
              "       [60767.25 ],\n",
              "       [61389.97 ],\n",
              "       [62077.01 ],\n",
              "       [62414.83 ],\n",
              "       [62173.992],\n",
              "       [61703.15 ],\n",
              "       [61363.61 ],\n",
              "       [61168.87 ],\n",
              "       [61235.52 ],\n",
              "       [61299.035],\n",
              "       [61173.805],\n",
              "       [61051.637],\n",
              "       [60866.848],\n",
              "       [60706.855],\n",
              "       [60621.69 ],\n",
              "       [60772.18 ],\n",
              "       [61329.92 ],\n",
              "       [62138.098],\n",
              "       [62814.242],\n",
              "       [62909.47 ],\n",
              "       [62584.348],\n",
              "       [62150.336],\n",
              "       [61796.23 ],\n",
              "       [61304.242],\n",
              "       [60898.023],\n",
              "       [60481.21 ],\n",
              "       [60021.562],\n",
              "       [59642.   ],\n",
              "       [59511.2  ],\n",
              "       [59570.684],\n",
              "       [59515.867],\n",
              "       [59297.105],\n",
              "       [59000.58 ],\n",
              "       [58630.926],\n",
              "       [58321.465],\n",
              "       [57981.453],\n",
              "       [57287.47 ],\n",
              "       [56591.51 ],\n",
              "       [56002.133],\n",
              "       [55735.04 ],\n",
              "       [55612.6  ],\n",
              "       [55621.84 ],\n",
              "       [55962.918],\n",
              "       [56548.715],\n",
              "       [57029.484],\n",
              "       [56986.43 ],\n",
              "       [56138.016],\n",
              "       [54831.566]], dtype=float32)"
            ]
          },
          "metadata": {},
          "execution_count": 31
        }
      ],
      "source": [
        "pred"
      ]
    },
    {
      "cell_type": "code",
      "execution_count": 32,
      "id": "dc7279c7-936a-4157-8eb5-8e20eb7519d5",
      "metadata": {
        "id": "dc7279c7-936a-4157-8eb5-8e20eb7519d5"
      },
      "outputs": [],
      "source": [
        "#future Bitcoin Price"
      ]
    },
    {
      "cell_type": "code",
      "execution_count": 33,
      "id": "6f47376a-50bb-43ea-9e2a-eaadc54ecaaa",
      "metadata": {
        "id": "6f47376a-50bb-43ea-9e2a-eaadc54ecaaa",
        "outputId": "2cd85e82-62a9-44aa-f398-e4918c8a5add",
        "colab": {
          "base_uri": "https://localhost:8080/"
        }
      },
      "outputs": [
        {
          "output_type": "stream",
          "name": "stdout",
          "text": [
            "1/1 [==============================] - 0s 217ms/step\n",
            "1/1 [==============================] - 0s 155ms/step\n",
            "1/1 [==============================] - 0s 117ms/step\n",
            "1/1 [==============================] - 0s 92ms/step\n",
            "1/1 [==============================] - 0s 137ms/step\n",
            "1/1 [==============================] - 0s 108ms/step\n",
            "1/1 [==============================] - 0s 108ms/step\n",
            "1/1 [==============================] - 0s 88ms/step\n",
            "1/1 [==============================] - 0s 87ms/step\n",
            "1/1 [==============================] - 0s 100ms/step\n"
          ]
        }
      ],
      "source": [
        "m = y\n",
        "z= []\n",
        "future_days = 10\n",
        "for i in range(base_days, len(m)+future_days):\n",
        "    m = m.reshape(-1,1)\n",
        "    inter = [m[-base_days:,0]]\n",
        "    inter = np.array(inter)\n",
        "    inter = np.reshape(inter, (inter.shape[0], inter.shape[1],1))\n",
        "    pred = model.predict(inter)\n",
        "    m = np.append(m ,pred)\n",
        "    z = np.append(z, pred)\n"
      ]
    },
    {
      "cell_type": "code",
      "execution_count": 34,
      "id": "ffe629b8-a508-4165-a6ed-cd1bcfcc1fcd",
      "metadata": {
        "id": "ffe629b8-a508-4165-a6ed-cd1bcfcc1fcd"
      },
      "outputs": [],
      "source": [
        "z = np.array(z)\n",
        "z = scaler.inverse_transform(z.reshape(-1,1))"
      ]
    },
    {
      "cell_type": "code",
      "execution_count": 35,
      "id": "efcc3b51-cb09-434c-be4d-aeaddf48db90",
      "metadata": {
        "id": "efcc3b51-cb09-434c-be4d-aeaddf48db90",
        "outputId": "4cc7e84a-92f0-4e9a-a2f5-17083de44314",
        "colab": {
          "base_uri": "https://localhost:8080/"
        }
      },
      "outputs": [
        {
          "output_type": "execute_result",
          "data": {
            "text/plain": [
              "array([[53663.19847137],\n",
              "       [52453.97610551],\n",
              "       [51171.41038574],\n",
              "       [49865.70053143],\n",
              "       [48602.80254598],\n",
              "       [47427.03184136],\n",
              "       [46356.62213678],\n",
              "       [45392.3816953 ],\n",
              "       [44522.0822791 ],\n",
              "       [43734.16485741]])"
            ]
          },
          "metadata": {},
          "execution_count": 35
        }
      ],
      "source": [
        "z"
      ]
    },
    {
      "cell_type": "code",
      "execution_count": 37,
      "id": "b78de981-8d62-4340-bc70-6b91728b1331",
      "metadata": {
        "id": "b78de981-8d62-4340-bc70-6b91728b1331"
      },
      "outputs": [],
      "source": [
        "model.save('Bitcoin_Model1.h5')"
      ]
    },
    {
      "cell_type": "code",
      "execution_count": null,
      "id": "f09d70a7-df12-43fd-aec5-3fd939abf3da",
      "metadata": {
        "id": "f09d70a7-df12-43fd-aec5-3fd939abf3da"
      },
      "outputs": [],
      "source": []
    }
  ],
  "metadata": {
    "kernelspec": {
      "display_name": "Python 3 (ipykernel)",
      "language": "python",
      "name": "python3"
    },
    "language_info": {
      "codemirror_mode": {
        "name": "ipython",
        "version": 3
      },
      "file_extension": ".py",
      "mimetype": "text/x-python",
      "name": "python",
      "nbconvert_exporter": "python",
      "pygments_lexer": "ipython3",
      "version": "3.11.7"
    },
    "colab": {
      "provenance": [],
      "toc_visible": true
    }
  },
  "nbformat": 4,
  "nbformat_minor": 5
}